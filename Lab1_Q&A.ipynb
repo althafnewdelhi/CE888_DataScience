{
  "nbformat": 4,
  "nbformat_minor": 0,
  "metadata": {
    "colab": {
      "name": "Untitled0.ipynb",
      "provenance": [],
      "authorship_tag": "ABX9TyNfoHahzZ+Qn0pdc/tQWIU9",
      "include_colab_link": true
    },
    "kernelspec": {
      "name": "python3",
      "display_name": "Python 3"
    }
  },
  "cells": [
    {
      "cell_type": "markdown",
      "metadata": {
        "id": "view-in-github",
        "colab_type": "text"
      },
      "source": [
        "<a href=\"https://colab.research.google.com/github/althafnewdelhi/CE888_DataScience/blob/master/Lab1_Q%26A.ipynb\" target=\"_parent\"><img src=\"https://colab.research.google.com/assets/colab-badge.svg\" alt=\"Open In Colab\"/></a>"
      ]
    },
    {
      "cell_type": "markdown",
      "metadata": {
        "id": "gbM3i-C58qBE",
        "colab_type": "text"
      },
      "source": [
        "#Lab 1 - Questions to be done \n",
        "###1. Create a (4 x 2) integer array and print it's attributes\n"
      ]
    },
    {
      "cell_type": "code",
      "metadata": {
        "id": "0jdRmZCN_wkJ",
        "colab_type": "code",
        "colab": {}
      },
      "source": [
        "import numpy as np"
      ],
      "execution_count": 0,
      "outputs": []
    },
    {
      "cell_type": "code",
      "metadata": {
        "id": "uoKExJp19BbE",
        "colab_type": "code",
        "colab": {
          "base_uri": "https://localhost:8080/",
          "height": 85
        },
        "outputId": "3128c151-d4d0-4320-e2ce-43e2c9fa569e"
      },
      "source": [
        "a = np.array([[1,2],[3,4],[5,6],[7,8]])\n",
        "print(a) "
      ],
      "execution_count": 9,
      "outputs": [
        {
          "output_type": "stream",
          "text": [
            "[[1 2]\n",
            " [3 4]\n",
            " [5 6]\n",
            " [7 8]]\n"
          ],
          "name": "stdout"
        }
      ]
    },
    {
      "cell_type": "markdown",
      "metadata": {
        "id": "Pbk6V3HO_8mR",
        "colab_type": "text"
      },
      "source": [
        "###2. Create an array of dimension (1,10) and sort it in ascending and descending order"
      ]
    },
    {
      "cell_type": "code",
      "metadata": {
        "id": "Cc4QSKqWAGtX",
        "colab_type": "code",
        "colab": {}
      },
      "source": [
        "a = np.array ([[0,1,2,3,4,5]])"
      ],
      "execution_count": 0,
      "outputs": []
    }
  ]
}