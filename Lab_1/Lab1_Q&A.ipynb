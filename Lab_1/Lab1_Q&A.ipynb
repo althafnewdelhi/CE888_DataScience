{
  "nbformat": 4,
  "nbformat_minor": 0,
  "metadata": {
    "colab": {
      "name": "Untitled0.ipynb",
      "provenance": [],
      "authorship_tag": "ABX9TyNJZgBR2Wd6xkH0iY42Nalo",
      "include_colab_link": true
    },
    "kernelspec": {
      "name": "python3",
      "display_name": "Python 3"
    }
  },
  "cells": [
    {
      "cell_type": "markdown",
      "metadata": {
        "id": "view-in-github",
        "colab_type": "text"
      },
      "source": [
        "<a href=\"https://colab.research.google.com/github/althafnewdelhi/CE888_DataScience/blob/master/Lab_1/Lab1_Q%26A.ipynb\" target=\"_parent\"><img src=\"https://colab.research.google.com/assets/colab-badge.svg\" alt=\"Open In Colab\"/></a>"
      ]
    },
    {
      "cell_type": "markdown",
      "metadata": {
        "id": "gbM3i-C58qBE",
        "colab_type": "text"
      },
      "source": [
        "#Lab 1 - Questions to be done \n",
        "###1. Create a (4 x 2) integer array and print it's attributes\n"
      ]
    },
    {
      "cell_type": "code",
      "metadata": {
        "id": "0jdRmZCN_wkJ",
        "colab_type": "code",
        "colab": {
          "base_uri": "https://localhost:8080/",
          "height": 85
        },
        "outputId": "f4330a61-2868-4ba2-a418-b02688ba79ca"
      },
      "source": [
        "import numpy as np\n",
        "a = np.array([[1,2],[3,4],[5,6],[7,8]])\n",
        "print(a) "
      ],
      "execution_count": 7,
      "outputs": [
        {
          "output_type": "stream",
          "text": [
            "[[1 2]\n",
            " [3 4]\n",
            " [5 6]\n",
            " [7 8]]\n"
          ],
          "name": "stdout"
        }
      ]
    },
    {
      "cell_type": "markdown",
      "metadata": {
        "id": "Pbk6V3HO_8mR",
        "colab_type": "text"
      },
      "source": [
        "###2. Create an array of dimension (1,10) and sort it in ascending and descending order"
      ]
    },
    {
      "cell_type": "code",
      "metadata": {
        "id": "Cc4QSKqWAGtX",
        "colab_type": "code",
        "colab": {
          "base_uri": "https://localhost:8080/",
          "height": 68
        },
        "outputId": "3126f5df-0ef2-4897-d2cb-6577a03254f2"
      },
      "source": [
        "y = np.array([[100,101,102,103,104,105,106,107,108,109,110]])\n",
        "print(y.shape)\n",
        "y.sort()\n",
        "print(\"The ascending order is\" +str(y))\n",
        "print(\"The desending order is\" +str(-np.sort(-y)))"
      ],
      "execution_count": 11,
      "outputs": [
        {
          "output_type": "stream",
          "text": [
            "(1, 11)\n",
            "The ascending order is[[100 101 102 103 104 105 106 107 108 109 110]]\n",
            "The desending order is[[110 109 108 107 106 105 104 103 102 101 100]]\n"
          ],
          "name": "stdout"
        }
      ]
    },
    {
      "cell_type": "markdown",
      "metadata": {
        "id": "gyBzTI4LFW3k",
        "colab_type": "text"
      },
      "source": [
        "###3. Convert an 1D array [1 2 3 4 5 6 7 8 9] to 2D array [[1 2 3], [4 5 6], [7 8 9]]"
      ]
    },
    {
      "cell_type": "code",
      "metadata": {
        "id": "TNPmSjS1FcEa",
        "colab_type": "code",
        "colab": {
          "base_uri": "https://localhost:8080/",
          "height": 68
        },
        "outputId": "dab76d72-e5bd-406f-b2fc-4cbfdc5ae141"
      },
      "source": [
        "x=np.array([1,2,3,4,5,6,7,8,9])\n",
        "np.reshape(x,(3,-1))"
      ],
      "execution_count": 12,
      "outputs": [
        {
          "output_type": "execute_result",
          "data": {
            "text/plain": [
              "array([[1, 2, 3],\n",
              "       [4, 5, 6],\n",
              "       [7, 8, 9]])"
            ]
          },
          "metadata": {
            "tags": []
          },
          "execution_count": 12
        }
      ]
    },
    {
      "cell_type": "markdown",
      "metadata": {
        "id": "jdLshBflCqV3",
        "colab_type": "text"
      },
      "source": [
        "###4. Stack two arrays of any size horizontally and vertically"
      ]
    },
    {
      "cell_type": "code",
      "metadata": {
        "id": "nBhJT4s4C04d",
        "colab_type": "code",
        "colab": {
          "base_uri": "https://localhost:8080/",
          "height": 68
        },
        "outputId": "c0492de9-4290-4106-aef1-276089cb2dcb"
      },
      "source": [
        "a = np.array([11,12,13,14,15])\n",
        "b = np.array ([16,17,18,19,20])\n",
        "x=np.hstack((a,b))\n",
        "y=np.vstack((a,b))\n",
        "print(x)\n",
        "print(y)\n"
      ],
      "execution_count": 14,
      "outputs": [
        {
          "output_type": "stream",
          "text": [
            "[11 12 13 14 15 16 17 18 19 20]\n",
            "[[11 12 13 14 15]\n",
            " [16 17 18 19 20]]\n"
          ],
          "name": "stdout"
        }
      ]
    },
    {
      "cell_type": "markdown",
      "metadata": {
        "id": "vzviL1g2EF8c",
        "colab_type": "text"
      },
      "source": [
        "###5. Create two array of same size and find commom elements"
      ]
    },
    {
      "cell_type": "code",
      "metadata": {
        "id": "xHtESqa5ELlN",
        "colab_type": "code",
        "colab": {
          "base_uri": "https://localhost:8080/",
          "height": 85
        },
        "outputId": "34229f17-6a5f-4288-bd52-74c5bd82c09f"
      },
      "source": [
        "array1=np.array([21,22,23,24,25])\n",
        "print(\"Array1:\",array1)\n",
        "array2=np.array([31,22,33,34,25])\n",
        "print(\"Array2:\",array2)\n",
        "print(\"Common values between two arrays:\")\n",
        "print(np.intersect1d(array1,array2))"
      ],
      "execution_count": 15,
      "outputs": [
        {
          "output_type": "stream",
          "text": [
            "Array1: [21 22 23 24 25]\n",
            "Array2: [31 22 33 34 25]\n",
            "Common values between two arrays:\n",
            "[22 25]\n"
          ],
          "name": "stdout"
        }
      ]
    },
    {
      "cell_type": "markdown",
      "metadata": {
        "id": "QmKdpJ6iIBpT",
        "colab_type": "text"
      },
      "source": [
        "###6. Create a 2D array of 5 by 5 and find the min and max values from each row and each column"
      ]
    },
    {
      "cell_type": "code",
      "metadata": {
        "id": "gs4bw911IFNQ",
        "colab_type": "code",
        "colab": {
          "base_uri": "https://localhost:8080/",
          "height": 51
        },
        "outputId": "56015594-dc68-4522-f668-48f99c0101bc"
      },
      "source": [
        "array1=np.random.random((5,5))\n",
        "array1\n",
        "print(\"Max:\", array1.max())\n",
        "print(\"Min:\", array1.min())"
      ],
      "execution_count": 16,
      "outputs": [
        {
          "output_type": "stream",
          "text": [
            "Max: 0.9638692190052809\n",
            "Min: 0.015116343712420433\n"
          ],
          "name": "stdout"
        }
      ]
    },
    {
      "cell_type": "markdown",
      "metadata": {
        "id": "iJZQ3X8jLE3P",
        "colab_type": "text"
      },
      "source": [
        "###7. Create an array of size 100 and compute the mean, median, standard deviation."
      ]
    },
    {
      "cell_type": "code",
      "metadata": {
        "id": "AVcnNrGZLIm0",
        "colab_type": "code",
        "colab": {
          "base_uri": "https://localhost:8080/",
          "height": 68
        },
        "outputId": "1c722144-17de-47b4-a4ca-48d4a5d84545"
      },
      "source": [
        "array1= np.random.random((100))\n",
        "array1\n",
        "from statistics import median\n",
        "print (\"mean:\", array1.mean())\n",
        "print (\"median:\", median(array1))\n",
        "print (\"stddev:\", array1.std())"
      ],
      "execution_count": 21,
      "outputs": [
        {
          "output_type": "stream",
          "text": [
            "mean: 0.4783237330681766\n",
            "median: 0.47559049840949547\n",
            "stddev: 0.2768613369504116\n"
          ],
          "name": "stdout"
        }
      ]
    },
    {
      "cell_type": "markdown",
      "metadata": {
        "id": "WuV6KRJvL54M",
        "colab_type": "text"
      },
      "source": [
        "###8. Normalize a 5x5 random matrix"
      ]
    },
    {
      "cell_type": "code",
      "metadata": {
        "id": "xn3h68EJLcOP",
        "colab_type": "code",
        "colab": {
          "base_uri": "https://localhost:8080/",
          "height": 221
        },
        "outputId": "dcdbd35a-2117-4cd8-b140-25dc67eb854b"
      },
      "source": [
        "x=np.random.random((5,5))\n",
        "print(\"Original Array:\")\n",
        "print(x)\n",
        "xmax, xmin = x.max(), x.min()\n",
        "x=(x-xmin)/(xmax-xmin)\n",
        "print(\"After normalisation:\")\n",
        "print(x)"
      ],
      "execution_count": 23,
      "outputs": [
        {
          "output_type": "stream",
          "text": [
            "Original Array:\n",
            "[[0.82399651 0.62258553 0.7841213  0.34406276 0.60793345]\n",
            " [0.09116966 0.24330938 0.19616712 0.74281047 0.26954703]\n",
            " [0.94638699 0.10119688 0.18028206 0.98901721 0.08404013]\n",
            " [0.40184785 0.22958524 0.16252874 0.13841728 0.39786346]\n",
            " [0.46639788 0.47394448 0.56693094 0.18902659 0.01671253]]\n",
            "After normalisation:\n",
            "[[0.83027881 0.62313081 0.78926779 0.33667454 0.60806137]\n",
            " [0.07657798 0.23305128 0.1845662  0.74678026 0.26003629]\n",
            " [0.95615549 0.08689082 0.16822868 1.         0.06924537]\n",
            " [0.39610559 0.21893622 0.14996967 0.12517141 0.3920077 ]\n",
            " [0.46249427 0.47025583 0.56589094 0.17722229 0.        ]]\n"
          ],
          "name": "stdout"
        }
      ]
    },
    {
      "cell_type": "markdown",
      "metadata": {
        "id": "di8Lb1-uMmHd",
        "colab_type": "text"
      },
      "source": [
        "###9. Consider an array of dimension (4,4,3), how to mulitply it by an array with dimensions (4,4)?"
      ]
    },
    {
      "cell_type": "code",
      "metadata": {
        "id": "2TXX4RDjM7OR",
        "colab_type": "code",
        "colab": {
          "base_uri": "https://localhost:8080/",
          "height": 340
        },
        "outputId": "d40fa790-97d1-49c6-ef39-b66b7e85f43b"
      },
      "source": [
        "array1=np.random.random((4,4,3))\n",
        "array2=np.random.random((4,4))\n",
        "array1"
      ],
      "execution_count": 29,
      "outputs": [
        {
          "output_type": "execute_result",
          "data": {
            "text/plain": [
              "array([[[0.64776728, 0.13368545, 0.91259795],\n",
              "        [0.44647638, 0.70365292, 0.55355829],\n",
              "        [0.81292618, 0.52065779, 0.52066172],\n",
              "        [0.28756131, 0.45495716, 0.3395564 ]],\n",
              "\n",
              "       [[0.14489972, 0.18790755, 0.10202127],\n",
              "        [0.31524492, 0.85830577, 0.78555311],\n",
              "        [0.13469731, 0.03611878, 0.09796417],\n",
              "        [0.77593532, 0.41831695, 0.07962566]],\n",
              "\n",
              "       [[0.38487952, 0.78100435, 0.65938905],\n",
              "        [0.02321621, 0.0090163 , 0.68815346],\n",
              "        [0.32753421, 0.62185301, 0.59872194],\n",
              "        [0.54905489, 0.88999756, 0.96523484]],\n",
              "\n",
              "       [[0.97719862, 0.53637145, 0.51566   ],\n",
              "        [0.95006733, 0.22619203, 0.55063425],\n",
              "        [0.18052053, 0.29022118, 0.68832618],\n",
              "        [0.03051223, 0.36924399, 0.89761386]]])"
            ]
          },
          "metadata": {
            "tags": []
          },
          "execution_count": 29
        }
      ]
    },
    {
      "cell_type": "code",
      "metadata": {
        "id": "sCYpHZm4NGia",
        "colab_type": "code",
        "colab": {
          "base_uri": "https://localhost:8080/",
          "height": 85
        },
        "outputId": "a8e42e25-abd1-4c02-dce0-1ce8711c3a37"
      },
      "source": [
        "array2"
      ],
      "execution_count": 30,
      "outputs": [
        {
          "output_type": "execute_result",
          "data": {
            "text/plain": [
              "array([[0.44684098, 0.1551103 , 0.46154205, 0.6343817 ],\n",
              "       [0.58481034, 0.6285787 , 0.72588551, 0.20969084],\n",
              "       [0.20913667, 0.59259516, 0.22732486, 0.82261621],\n",
              "       [0.63874116, 0.29892162, 0.05092529, 0.96848401]])"
            ]
          },
          "metadata": {
            "tags": []
          },
          "execution_count": 30
        }
      ]
    },
    {
      "cell_type": "code",
      "metadata": {
        "id": "HKXuFSp8N1a1",
        "colab_type": "code",
        "colab": {
          "base_uri": "https://localhost:8080/",
          "height": 340
        },
        "outputId": "2c5c2ce8-b945-4e3d-f3ed-45ab02c99a10"
      },
      "source": [
        "import numpy as np\n",
        "array1= np.random.randint(1,10,(4,4,3))\n",
        "array2= np.random.randint(1,10, (4,4))\n",
        "print(array1*array2 [:,:,None])\n"
      ],
      "execution_count": 46,
      "outputs": [
        {
          "output_type": "stream",
          "text": [
            "[[[10  8 14]\n",
            "  [24 18 30]\n",
            "  [ 9  2  6]\n",
            "  [ 9  6 24]]\n",
            "\n",
            " [[36 36 18]\n",
            "  [ 8 56 16]\n",
            "  [63 21 28]\n",
            "  [45 81 81]]\n",
            "\n",
            " [[35 42 28]\n",
            "  [ 8 14 10]\n",
            "  [72  8 72]\n",
            "  [18 54 54]]\n",
            "\n",
            " [[ 3  9  6]\n",
            "  [63 14 35]\n",
            "  [20 12 24]\n",
            "  [21 21 56]]]\n"
          ],
          "name": "stdout"
        }
      ]
    }
  ]
}